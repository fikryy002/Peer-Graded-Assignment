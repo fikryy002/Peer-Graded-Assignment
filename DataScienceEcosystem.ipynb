{
 "cells": [
  {
   "cell_type": "markdown",
   "id": "8576e56c-b147-44a9-8951-87425588fa8b",
   "metadata": {},
   "source": [
    "# Data Science Tools and Ecosystem "
   ]
  },
  {
   "cell_type": "markdown",
   "id": "2beb1b4f-6773-49af-b717-2f51fb7d1e1e",
   "metadata": {},
   "source": [
    "In this notebook, Data Science Tools and Ecosystem are summarized."
   ]
  },
  {
   "cell_type": "markdown",
   "id": "8e8ddf9c-56fe-4b4d-97b8-87112f23fd55",
   "metadata": {},
   "source": [
    "**Objectives:**\n",
    "* Overview of popular programming languages used in data science, including Python, R, Scala, and SQL\n",
    "* Introduction to open source and commercial data science tools available, such as GitHub, Jupyter Notebooks, and RStudio IDE\n",
    "* Understanding of frequently used packages, APIs, data sets, and models in data science\n",
    "* Familiarity with enterprise-ready data science platform by IBM, called Watson Studio, and its features and capabilities\n",
    "* Introduction to other IBM tools used to support data science projects, including IBM Watson Knowledge Catalog, Data Refinery, and the SPSS Modeler."
   ]
  },
  {
   "cell_type": "markdown",
   "id": "f48bbd87-69da-48c1-ab39-145f1517b670",
   "metadata": {},
   "source": [
    "Some of the popular languages that Data Scientists use are:\n",
    "1. Python\n",
    "2. R\n",
    "3. SQL"
   ]
  },
  {
   "cell_type": "markdown",
   "id": "55c2c017-fcae-471c-b9d0-05f0ce3b5ecb",
   "metadata": {},
   "source": [
    "Some of the commonly used libraries used by Data Scientists include:\n",
    "1. NumPy\n",
    "2. Pandas\n",
    "3. Matplotlib\n",
    "4. Scikit-learn\n",
    "5. TensorFlow\n",
    "6. Keras"
   ]
  },
  {
   "cell_type": "markdown",
   "id": "ceac39d9-eb07-4df0-af86-ad2ff4706814",
   "metadata": {},
   "source": [
    "| Data Science Tools |\n",
    "| -------------      |\n",
    "| Jupyter Notebook   |\n",
    "| RStudio            |\n",
    "| Spyder             |"
   ]
  },
  {
   "cell_type": "markdown",
   "id": "e98ce88b-0e84-42cb-b093-3d838069be1b",
   "metadata": {},
   "source": [
    "### Below are a few examples of evaluating arithmetic expressions in Python\n",
    "An arithmetic expression is a series of mathematical operations that are evaluated to produce a single value. here are some examples of arithmetic expressions in python :\n",
    "\n",
    "* Addition\n",
    "\n",
    "2 + 3\n",
    "* Subtraction\n",
    "\n",
    "5 - 2\n",
    "* Multiplication\n",
    "\n",
    "4 * 2\n",
    "* Division\n",
    "\n",
    "6 / 3\n",
    "\n",
    "the results of evaluating these expressions are, in order : 5, 3, 8, and 2.0"
   ]
  },
  {
   "cell_type": "code",
   "execution_count": 3,
   "id": "143f1c36-6ee0-4780-a8d3-72abca174f98",
   "metadata": {},
   "outputs": [
    {
     "data": {
      "text/plain": [
       "17"
      ]
     },
     "execution_count": 3,
     "metadata": {},
     "output_type": "execute_result"
    }
   ],
   "source": [
    "# this is a simple arithmatic expression to multiply and add integers\n",
    "(3*4)+5"
   ]
  },
  {
   "cell_type": "code",
   "execution_count": 4,
   "id": "7bb26f44-d7be-454a-9188-4b781cdf994a",
   "metadata": {},
   "outputs": [
    {
     "name": "stdout",
     "output_type": "stream",
     "text": [
      "3.33\n"
     ]
    }
   ],
   "source": [
    "# Convert 200 minutes to hours\n",
    "# by dividing by 60 (number of minutes in one hour)\n",
    "\n",
    "hours = round(200 / 60, 2)\n",
    "\n",
    "print(hours)\n"
   ]
  },
  {
   "cell_type": "markdown",
   "id": "9c3d8e31-026a-40c7-9793-3c72c5284ada",
   "metadata": {},
   "source": [
    "## Author\n",
    "FIKRI NANDA SAPUTRA"
   ]
  }
 ],
 "metadata": {
  "kernelspec": {
   "display_name": "Python",
   "language": "python",
   "name": "conda-env-python-py"
  },
  "language_info": {
   "codemirror_mode": {
    "name": "ipython",
    "version": 3
   },
   "file_extension": ".py",
   "mimetype": "text/x-python",
   "name": "python",
   "nbconvert_exporter": "python",
   "pygments_lexer": "ipython3",
   "version": "3.7.12"
  }
 },
 "nbformat": 4,
 "nbformat_minor": 5
}
